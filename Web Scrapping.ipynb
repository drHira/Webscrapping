{
 "cells": [
  {
   "cell_type": "code",
   "execution_count": 3,
   "id": "fcefe3a9",
   "metadata": {},
   "outputs": [
    {
     "name": "stdout",
     "output_type": "stream",
     "text": [
      "b'<!DOCTYPE html>\\n<html>\\n\\n<head>\\n  <meta http-equiv=\"Content-Type\" content=\"text/html; charset=UTF-8\">\\n  <meta charset=\"utf-8\">\\n  <meta http-equiv=\"X-UA-Compatible\" content=\"IE=edge\">\\n  <meta name=\"viewport\" content=\"width=device-width, initial-scale=1\">\\n\\n  <meta name=\"csrf_token_name\" content=\"ci_csrf_token\">\\n  <meta name=\"csrf_token_hash\" content=\"\">\\n\\n  <!-- author credit template -->\\n      \\n    <meta name=\"description\" content=\"Zal Pro - ISP Managemetn System Build With Radius & Mikrotik API.\">\\n    <meta name=\"keywords\" content=\"Zal Pro, ISP, ISP CRM, ISP System, Radius, ISP Billing, ISP Management, Mikrotik, API, Networking\">\\n    <meta name=\"author\" content=\"www.onezeroart.com\">\\n\\n    <!-- \\n    ################################################################## \\n    ################################################################## \\n\\n    ######  ###  ##  ######    ######  ######  ######   ######    ######  ######   ###### \\n    ##  ##  ###  ##  ##            ##  ##      ##   ##  ##  ##    ##  ##  ##   ##    ##\\n    ##  ##  ## # ##  ####         ##   ####    #####    ##  ##    ######  #####      ##\\n    ##  ##  ##  ###  ##         ##     ##      ##   ##  ##  ##    ##  ##  ##   ##    ## \\n    ######  ##  ###  ######    ######  ######  ##   ##  ######    ##  ##  ##   ##    ##\\n\\n    One Zero Art | The Arts Of Code\\n    Zal Pro is a project of One Zero Art. \\n    For any query about this project please contact us at below. \\n    Web : www.onezeroart.com\\n    Email: support@onezeroart.com\\n    Skype : One Zero Art \\n\\n    CRM : Zal Pro - ISP CRM With Radius & Mikrotik API\\n    Author: One Zero Art\\n    Website: http://www.onezeroart.com/\\n    Contact: support@onezeroart.com\\n    Purchase: http://onezeroart.com/\\n    License: You must have a valid license purchased only from onezeroart.com in order to legally use the crm for your business.\\n\\n    ################################################################## \\n    ################################################################## \\n    -->\\n\\n    \\n  <title>Redtone Digital Services | Fast and Reliable internet service</title>\\n\\n  <!-- Favicon -->\\n  <link rel=\"icon\" type=\"image/png\" href=\"https://rmkhi.rds.net.pk/assets/system/images/xfavicon.png.pagespeed.ic.OkYQc8JFTN.png\"/>\\n  <!-- Fonts -->\\n  <link rel=\"stylesheet\" href=\"https://fonts.googleapis.com/css?family=Open+Sans:300,400,600,700\">\\n  <!-- Icons -->\\n  <link rel=\"stylesheet\" href=\"https://rmkhi.rds.net.pk/assets/themes/theme_1/css/A.nucleo.css+all.min.css+argon.css,,qv==1.2.1,Mcc.gzYimrTEiX.css.pagespeed.cf.2h-rGEAFZG.css\" type=\"text/css\"/>\\n  \\n  <!-- Argon CSS -->\\n  \\n\\n  <!-- jQuery -->\\n  <script src=\"https://rmkhi.rds.net.pk/assets/dashboard/vendors/jquery/dist/jquery.min.js\"></script>\\n  <script src=\"https://www.google.com/recaptcha/api.js\" async defer></script>\\n\\n  <style type=\"text/css\">.copyright.text-center.text-muted{font-size:.9rem}</style>\\n\\n</head>\\n\\n<body class=\"bg-default\">\\n  <!-- Main content -->\\n  <div class=\"main-content\">\\n    <!-- Header -->\\n    <div class=\"header py-3 py-lg-3 pt-lg-5\">\\n      <div class=\"container\">\\n        <!-- notification popup -->\\n        <div class=\"col-xl-6 col-lg-6 col-md-6 col-xs-6 offset-xl-3 offset-lg-3 offset-md-3 offset-xs-3\">\\n                  </div>\\n\\n        <div class=\"header-body text-center\">\\n          <div class=\"row justify-content-center\">\\n            <div class=\"col-xl-12 col-lg-12 col-md-12 px-5\">\\n              <h1 class=\"text-lead text-white mb-3\">\\n                                  <img class=\"mx-auto d-block img-fluid rounded\" src=\"https://rmkhi.rds.net.pk/assets/images/final/x20210630_014407_394455.jpg.pagespeed.ic.3F7LcMMhnn.jpg\" alt=\"Logo\">\\n                              </h1>\\n\\n              <h1 class=\"text-lead text-white mb-3\"><strong>Redtone Digital Services Fast and Reliable internet service</strong></h1>\\n              <h3 class=\"text-lead text-white\">Admin/Reseller/Staff/ Login</h3>\\n            </div>\\n          </div>\\n        </div>\\n      </div>\\n    </div>\\n    <!-- Page content -->\\n    <div class=\"container pb-5\">\\n      <div class=\"row justify-content-center\">\\n        <div class=\"col-lg-5 col-md-7\">\\n          <div class=\"card bg-secondary border-0 mb-0\">\\n            <div class=\"card-body px-lg-5 py-lg-5\">\\n            \\n              <form role=\"form\" enctype=\"multipart/form-data\" method=\"post\" action=\"https://rmkhi.rds.net.pk/access/admin/checkinguser\" accept-charset=\"utf-8\">\\n                <input type=\"hidden\" name=\"ci_csrf_token\" value=\"\">\\n                <input type=\"hidden\" name=\"admin_login_type\" value=\"864aef9dc4bc2bdb75e18ac0f1285d5fad0835c588889a86dd79f9abc6e0be6515ac9b689c9d6e6e68dfebc4bbfb4d690d43f2d5b3815303126c62817e350579nVd0iRVqmSPh6jsGILmSo7q0W45D8qE+tKW5L/WcKTuZCBvjKd1mmh9qdwRb1YTC\">\\n                <div class=\"form-group mb-3\">\\n                  <label class=\"form-control-label\">Username</label>\\n                  <div class=\"input-group input-group-merge input-group-alternative\">\\n                    <div class=\"input-group-prepend\">\\n                      <span class=\"input-group-text\"><i class=\"ni ni-email-83\"></i></span>\\n                    </div>\\n                    <input class=\"form-control\" name=\"username\" type=\"text\" placeholder=\"Enter Username/Email/Phone\" required>\\n                  </div>\\n                </div>\\n                <div class=\"form-group\">\\n                  <label class=\"form-control-label\">Password</label>\\n                  <div class=\"input-group input-group-merge input-group-alternative\">\\n                    <div class=\"input-group-prepend\">\\n                      <span class=\"input-group-text\"><i class=\"ni ni-lock-circle-open\"></i></span>\\n                    </div>\\n                    <input class=\"form-control\" name=\"password\" type=\"password\" placeholder=\"Enter Password\" required>\\n                  </div>\\n                </div>\\n                                <div class=\"text-center\">\\n                  <button type=\"submit\" class=\"btn btn-primary my-3\">Login</button>\\n                </div>\\n              </form>\\n            </div>\\n          </div>\\n        </div>\\n      </div>\\n    </div>\\n  </div>\\n  <!-- Footer -->\\n  <footer class=\"py-2\" id=\"footer-main\">\\n    <div class=\"container\">\\n      <div class=\"copyright text-center text-muted\">\\n\\n        \\n                      Redtone Digital Services | Fast and Reliable internet service | Copyright @ 2019          \\n        \\n      </div>\\n    </div>\\n  </footer>\\n  <!-- Argon Scripts -->\\n  <!-- Core -->\\n  <script src=\"https://rmkhi.rds.net.pk/assets/themes/theme_1/js/jquery.min.js.pagespeed.jm.tJmcu2pzqb.js\"></script>\\n  <script src=\"https://rmkhi.rds.net.pk/assets/themes/theme_1/js/bootstrap.bundle.min.js+js.cookie.js.pagespeed.jc.9nx73eMZyx.js\"></script><script>eval(mod_pagespeed_4EpgHdtD4L);</script>\\n  <script>eval(mod_pagespeed_km7D5awngP);</script>\\n  <script src=\"https://rmkhi.rds.net.pk/assets/themes/theme_1/js/jquery.scrollbar.min.js+jquery-scrollLock.min.js.pagespeed.jc.WrX7YBbaTI.js\"></script><script>eval(mod_pagespeed_bqvOYPZYu7);</script>\\n  <script>eval(mod_pagespeed_JcTGLBqkH9);</script>\\n  <!-- Argon JS -->\\n  <script src=\"https://rmkhi.rds.net.pk/assets/themes/theme_1/js/argon.js,qv=1.2.1.pagespeed.ce.ZOj2gibAFn.js\"></script>\\n</body>\\n\\n</html>'\n"
     ]
    }
   ],
   "source": [
    "from urllib.request import urlopen\n",
    "from bs4 import BeautifulSoup as soup\n",
    "httpObject= urlopen(\"https://rmkhi.rds.net.pk/user/all\")\n",
    "webdata =httpObject.read()\n",
    "print(webdata)"
   ]
  },
  {
   "cell_type": "code",
   "execution_count": null,
   "id": "a36f897e",
   "metadata": {},
   "outputs": [],
   "source": []
  }
 ],
 "metadata": {
  "kernelspec": {
   "display_name": "Python 3 (ipykernel)",
   "language": "python",
   "name": "python3"
  },
  "language_info": {
   "codemirror_mode": {
    "name": "ipython",
    "version": 3
   },
   "file_extension": ".py",
   "mimetype": "text/x-python",
   "name": "python",
   "nbconvert_exporter": "python",
   "pygments_lexer": "ipython3",
   "version": "3.10.9"
  }
 },
 "nbformat": 4,
 "nbformat_minor": 5
}
